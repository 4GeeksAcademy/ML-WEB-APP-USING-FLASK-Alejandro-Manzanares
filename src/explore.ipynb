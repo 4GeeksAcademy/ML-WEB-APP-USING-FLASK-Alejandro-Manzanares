{
    "cells": [
        {
            "cell_type": "markdown",
            "metadata": {},
            "source": [
                "# Explore here"
            ]
        },
        {
            "cell_type": "code",
            "execution_count": 5,
            "metadata": {},
            "outputs": [
                {
                    "name": "stdout",
                    "output_type": "stream",
                    "text": [
                        " * Serving Flask app '__main__'\n",
                        " * Debug mode: on\n"
                    ]
                },
                {
                    "name": "stderr",
                    "output_type": "stream",
                    "text": [
                        "\u001b[31m\u001b[1mWARNING: This is a development server. Do not use it in a production deployment. Use a production WSGI server instead.\u001b[0m\n",
                        " * Running on all addresses (0.0.0.0)\n",
                        " * Running on http://127.0.0.1:3245\n",
                        " * Running on http://172.18.0.2:3245\n",
                        "\u001b[33mPress CTRL+C to quit\u001b[0m\n",
                        " * Restarting with stat\n",
                        "Traceback (most recent call last):\n",
                        "  File \"<frozen runpy>\", line 198, in _run_module_as_main\n",
                        "  File \"<frozen runpy>\", line 88, in _run_code\n",
                        "  File \"/home/vscode/.local/lib/python3.11/site-packages/ipykernel_launcher.py\", line 18, in <module>\n",
                        "    app.launch_new_instance()\n",
                        "  File \"/home/vscode/.local/lib/python3.11/site-packages/traitlets/config/application.py\", line 1074, in launch_instance\n",
                        "    app.initialize(argv)\n",
                        "  File \"/home/vscode/.local/lib/python3.11/site-packages/traitlets/config/application.py\", line 118, in inner\n",
                        "    return method(app, *args, **kwargs)\n",
                        "           ^^^^^^^^^^^^^^^^^^^^^^^^^^^^\n",
                        "  File \"/home/vscode/.local/lib/python3.11/site-packages/ipykernel/kernelapp.py\", line 692, in initialize\n",
                        "    self.init_sockets()\n",
                        "  File \"/home/vscode/.local/lib/python3.11/site-packages/ipykernel/kernelapp.py\", line 331, in init_sockets\n",
                        "    self.shell_port = self._bind_socket(self.shell_socket, self.shell_port)\n",
                        "                      ^^^^^^^^^^^^^^^^^^^^^^^^^^^^^^^^^^^^^^^^^^^^^^^^^^^^^\n",
                        "  File \"/home/vscode/.local/lib/python3.11/site-packages/ipykernel/kernelapp.py\", line 253, in _bind_socket\n",
                        "    return self._try_bind_socket(s, port)\n",
                        "           ^^^^^^^^^^^^^^^^^^^^^^^^^^^^^^\n",
                        "  File \"/home/vscode/.local/lib/python3.11/site-packages/ipykernel/kernelapp.py\", line 229, in _try_bind_socket\n",
                        "    s.bind(\"tcp://%s:%i\" % (self.ip, port))\n",
                        "  File \"/home/vscode/.local/lib/python3.11/site-packages/zmq/sugar/socket.py\", line 320, in bind\n",
                        "    super().bind(addr)\n",
                        "  File \"_zmq.py\", line 917, in zmq.backend.cython._zmq.Socket.bind\n",
                        "  File \"_zmq.py\", line 179, in zmq.backend.cython._zmq._check_rc\n",
                        "zmq.error.ZMQError: Address already in use (addr='tcp://127.0.0.1:9010')\n"
                    ]
                },
                {
                    "ename": "SystemExit",
                    "evalue": "1",
                    "output_type": "error",
                    "traceback": [
                        "An exception has occurred, use %tb to see the full traceback.\n",
                        "\u001b[31mSystemExit\u001b[39m\u001b[31m:\u001b[39m 1\n"
                    ]
                },
                {
                    "name": "stderr",
                    "output_type": "stream",
                    "text": [
                        "/home/vscode/.local/lib/python3.11/site-packages/IPython/core/interactiveshell.py:3557: UserWarning: To exit: use 'exit', 'quit', or Ctrl-D.\n",
                        "  warn(\"To exit: use 'exit', 'quit', or Ctrl-D.\", stacklevel=1)\n"
                    ]
                }
            ],
            "source": [
                "# Your code here\n",
                "\n",
                "from flask import Flask, jsonify\n",
                "from flask import Flask, request\n",
                "app = Flask(__name__)\n",
                "\n",
                "todos = [\n",
                "    { \"label\": \"My first task\", \"done\": False },\n",
                "    { \"label\": \"My second task\", \"done\": False }\n",
                "]\n",
                "\n",
                "@app.route('/todos', methods=['GET'])\n",
                "def hello_world():\n",
                "    json_text = jsonify(todos)\n",
                "    return json_text\n",
                "\n",
                "\n",
                "@app.route('/todos', methods=['POST'])\n",
                "def add_new_todo():\n",
                "    request_body = request.json\n",
                "    todos.append(request_body)\n",
                "    return jsonify(todos)\n",
                "\n",
                "@app.route('/todos/<int:position>', methods=['DELETE'])\n",
                "def delete_todo(position):\n",
                "    updated_list = todos.pop(position)\n",
                "    return jsonify(todos)\n",
                "\n",
                "   \n",
                "\n",
                "\n",
                "\n",
                "\n",
                "\n",
                "\n",
                "\n",
                "\n",
                "\n",
                "if __name__ == '__main__':\n",
                "    app.run(host='0.0.0.0', port=3245, debug=True)\n",
                "    \n"
            ]
        }
    ],
    "metadata": {
        "kernelspec": {
            "display_name": "Python 3",
            "language": "python",
            "name": "python3"
        },
        "language_info": {
            "codemirror_mode": {
                "name": "ipython",
                "version": 3
            },
            "file_extension": ".py",
            "mimetype": "text/x-python",
            "name": "python",
            "nbconvert_exporter": "python",
            "pygments_lexer": "ipython3",
            "version": "3.11.4"
        },
        "orig_nbformat": 4
    },
    "nbformat": 4,
    "nbformat_minor": 2
}
